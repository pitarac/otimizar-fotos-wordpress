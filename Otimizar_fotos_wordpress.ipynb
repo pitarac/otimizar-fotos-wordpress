{
  "nbformat": 4,
  "nbformat_minor": 0,
  "metadata": {
    "colab": {
      "provenance": [],
      "authorship_tag": "ABX9TyMgQPLo6fXNeZE/WYWTxPlF",
      "include_colab_link": true
    },
    "kernelspec": {
      "name": "python3",
      "display_name": "Python 3"
    },
    "language_info": {
      "name": "python"
    }
  },
  "cells": [
    {
      "cell_type": "markdown",
      "metadata": {
        "id": "view-in-github",
        "colab_type": "text"
      },
      "source": [
        "<a href=\"https://colab.research.google.com/github/pitarac/otimizar-fotos-wordpress/blob/main/Otimizar_fotos_wordpress.ipynb\" target=\"_parent\"><img src=\"https://colab.research.google.com/assets/colab-badge.svg\" alt=\"Open In Colab\"/></a>"
      ]
    },
    {
      "cell_type": "code",
      "execution_count": 1,
      "metadata": {
        "colab": {
          "base_uri": "https://localhost:8080/"
        },
        "id": "IgVU9ialy9rv",
        "outputId": "a345ee41-9ce6-4a4c-902f-f691db7addc0"
      },
      "outputs": [
        {
          "output_type": "stream",
          "name": "stdout",
          "text": [
            "Requirement already satisfied: Pillow in /usr/local/lib/python3.10/dist-packages (9.4.0)\n",
            "Collecting paramiko\n",
            "  Downloading paramiko-3.3.1-py3-none-any.whl (224 kB)\n",
            "\u001b[2K     \u001b[90m━━━━━━━━━━━━━━━━━━━━━━━━━━━━━━━━━━━━━━━━\u001b[0m \u001b[32m224.8/224.8 kB\u001b[0m \u001b[31m5.2 MB/s\u001b[0m eta \u001b[36m0:00:00\u001b[0m\n",
            "\u001b[?25hCollecting bcrypt>=3.2 (from paramiko)\n",
            "  Downloading bcrypt-4.1.1-cp37-abi3-manylinux_2_28_x86_64.whl (699 kB)\n",
            "\u001b[2K     \u001b[90m━━━━━━━━━━━━━━━━━━━━━━━━━━━━━━━━━━━━━━━━\u001b[0m \u001b[32m699.4/699.4 kB\u001b[0m \u001b[31m41.5 MB/s\u001b[0m eta \u001b[36m0:00:00\u001b[0m\n",
            "\u001b[?25hRequirement already satisfied: cryptography>=3.3 in /usr/local/lib/python3.10/dist-packages (from paramiko) (41.0.7)\n",
            "Collecting pynacl>=1.5 (from paramiko)\n",
            "  Downloading PyNaCl-1.5.0-cp36-abi3-manylinux_2_17_x86_64.manylinux2014_x86_64.manylinux_2_24_x86_64.whl (856 kB)\n",
            "\u001b[2K     \u001b[90m━━━━━━━━━━━━━━━━━━━━━━━━━━━━━━━━━━━━━━━━\u001b[0m \u001b[32m856.7/856.7 kB\u001b[0m \u001b[31m59.3 MB/s\u001b[0m eta \u001b[36m0:00:00\u001b[0m\n",
            "\u001b[?25hRequirement already satisfied: cffi>=1.12 in /usr/local/lib/python3.10/dist-packages (from cryptography>=3.3->paramiko) (1.16.0)\n",
            "Requirement already satisfied: pycparser in /usr/local/lib/python3.10/dist-packages (from cffi>=1.12->cryptography>=3.3->paramiko) (2.21)\n",
            "Installing collected packages: bcrypt, pynacl, paramiko\n",
            "Successfully installed bcrypt-4.1.1 paramiko-3.3.1 pynacl-1.5.0\n"
          ]
        }
      ],
      "source": [
        "!pip install Pillow paramiko\n"
      ]
    },
    {
      "cell_type": "code",
      "source": [
        "from PIL import Image\n",
        "import paramiko\n",
        "import os\n"
      ],
      "metadata": {
        "id": "68XAEbq0198u"
      },
      "execution_count": 2,
      "outputs": []
    },
    {
      "cell_type": "code",
      "source": [
        "ssh = paramiko.SSHClient()\n",
        "ssh.set_missing_host_key_policy(paramiko.AutoAddPolicy())\n",
        "ssh.connect(hostname='89.117.33.54', username='root', password='*Hr-v//90')  # Ou use uma chave SSH\n",
        "sftp = ssh.open_sftp()\n"
      ],
      "metadata": {
        "id": "ygfO-OtW1_3s"
      },
      "execution_count": 3,
      "outputs": []
    },
    {
      "cell_type": "code",
      "source": [
        "remote_image_directory = 'caminho/para/sua/pasta/de/imagens/no/servidor'\n",
        "local_image_directory = '/content/imagens'\n"
      ],
      "metadata": {
        "id": "cGi5xVK02B3i"
      },
      "execution_count": null,
      "outputs": []
    },
    {
      "cell_type": "code",
      "source": [
        "def optimize_image(local_file_path):\n",
        "    with Image.open(local_file_path) as img:\n",
        "        img.save(local_file_path, optimize=True, quality=85)\n"
      ],
      "metadata": {
        "id": "5Vj5Zb-W2Hlx"
      },
      "execution_count": null,
      "outputs": []
    },
    {
      "cell_type": "code",
      "source": [
        "for filename in sftp.listdir(remote_image_directory):\n",
        "    if filename.endswith(('.jpg', '.jpeg', '.png')):\n",
        "        local_file_path = os.path.join(local_image_directory, filename)\n",
        "        remote_file_path = os.path.join(remote_image_directory, filename)\n",
        "\n",
        "        # Baixar a imagem\n",
        "        sftp.get(remote_file_path, local_file_path)\n",
        "\n",
        "        # Otimizar a imagem\n",
        "        optimize_image(local_file_path)\n",
        "\n",
        "        # Enviar de volta para o servidor\n",
        "        sftp.put(local_file_path, remote_file_path)\n",
        "\n",
        "        print(f'Imagem otimizada e enviada de volta: {filename}')\n"
      ],
      "metadata": {
        "id": "JlE1qUdT2K56"
      },
      "execution_count": null,
      "outputs": []
    }
  ]
}