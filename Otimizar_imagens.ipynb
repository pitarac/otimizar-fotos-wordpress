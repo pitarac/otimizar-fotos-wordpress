!pip install Pillow paramiko
from PIL import Image
import paramiko
import os

ssh = paramiko.SSHClient()
ssh.set_missing_host_key_policy(paramiko.AutoAddPolicy())
ssh.connect(hostname='IP ou Diretorio ', username='USER', password='Senha')  # Ou use uma chave SSH
sftp = ssh.open_sftp()
remote_image_directory = 'pasta do diretorio de origem'
local_image_directory = 'pasta local '

def optimize_image(local_file_path):
    with Image.open(local_file_path) as img:
        img.save(local_file_path, optimize=True, quality=85)

def is_directory(sftp, path):
    try:
        # Tente listar os arquivos dentro do caminho
        sftp.listdir(path)
        return True
    except:
        return False

def process_directory(remote_dir, local_dir):
    for filename in sftp.listdir(remote_dir):
        remote_file_path = os.path.join(remote_dir, filename)
        local_file_path = os.path.join(local_dir, filename)

        if filename.endswith(('.jpg', '.jpeg', '.png')):
            # Se for um arquivo de imagem, faça o download, otimize e envie de volta
            sftp.get(remote_file_path, local_file_path)
            optimize_image(local_file_path)
            sftp.put(local_file_path, remote_file_path)
            print(f'Imagem otimizada e enviada de volta: {filename}')
        elif is_directory(sftp, remote_file_path):
            # Se for um diretório, crie o diretório local correspondente
            os.makedirs(local_file_path, exist_ok=True)
            process_directory(remote_file_path, local_file_path)

# Inicie o processamento do diretório remoto recursivamente
process_directory(remote_image_directory, local_image_directory)

print("Otimização concluída!")
